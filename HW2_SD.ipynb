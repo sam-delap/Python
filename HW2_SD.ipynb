{
 "cells": [
  {
   "cell_type": "markdown",
   "id": "0f29a1cb",
   "metadata": {},
   "source": [
    "# Question 9"
   ]
  },
  {
   "cell_type": "code",
   "execution_count": 1,
   "id": "555269d8",
   "metadata": {},
   "outputs": [],
   "source": [
    "import numpy as np\n",
    "import pandas as pd\n",
    "from sklearn import datasets\n",
    "from sklearn.model_selection import train_test_split\n",
    "from sklearn.neighbors import KNeighborsClassifier\n",
    "from sklearn import metrics\n",
    "from math import sqrt\n",
    "from matplotlib import pyplot as plt"
   ]
  },
  {
   "cell_type": "code",
   "execution_count": 2,
   "id": "b0967687",
   "metadata": {},
   "outputs": [],
   "source": [
    "iris = datasets.load_iris()\n",
    "X = iris.data\n",
    "y = iris.target"
   ]
  },
  {
   "cell_type": "code",
   "execution_count": 3,
   "id": "de8a85d5",
   "metadata": {},
   "outputs": [],
   "source": [
    "X_train, X_test, y_train, y_test = train_test_split(X, y, test_size = 0.2)"
   ]
  },
  {
   "cell_type": "code",
   "execution_count": 4,
   "id": "411d919d",
   "metadata": {},
   "outputs": [],
   "source": [
    "#Train models for k = 1 to k = 30\n",
    "klist = []\n",
    "train_accuracy = []\n",
    "test_accuracy = []\n",
    "for k in range (1, 30):\n",
    "    knn = KNeighborsClassifier(n_neighbors=k)\n",
    "    knn.fit(X_train, y_train)\n",
    "    \n",
    "    train_preds = knn.predict(X_train)\n",
    "    train_accuracy.append(metrics.accuracy_score(y_train, train_preds))\n",
    "    \n",
    "    test_preds = knn.predict(X_test)\n",
    "    test_accuracy.append(metrics.accuracy_score(y_test, test_preds))\n",
    "    klist.append(k)"
   ]
  },
  {
   "cell_type": "code",
   "execution_count": 5,
   "id": "929225b2",
   "metadata": {},
   "outputs": [
    {
     "data": {
      "image/png": "[encoded data removed]",
      "text/plain": [
       "<Figure size 432x288 with 1 Axes>"
      ]
     },
     "metadata": {
      "needs_background": "light"
     },
     "output_type": "display_data"
    }
   ],
   "source": [
    "plt.plot(klist, train_accuracy)\n",
    "plt.xlabel(\"K value\")\n",
    "plt.ylabel(\"Accuracy\")\n",
    "plt.show()"
   ]
  },
  {
   "cell_type": "code",
   "execution_count": 6,
   "id": "b4c587cf",
   "metadata": {},
   "outputs": [
    {
     "data": {
      "image/png": "[encoded data removed]",
      "text/plain": [
       "<Figure size 432x288 with 1 Axes>"
      ]
     },
     "metadata": {
      "needs_background": "light"
     },
     "output_type": "display_data"
    }
   ],
   "source": [
    "plt.plot(klist, test_accuracy)\n",
    "plt.xlabel(\"K value\")\n",
    "plt.ylabel(\"Accuracy\")\n",
    "plt.show()"
   ]
  },
  {
   "cell_type": "code",
   "execution_count": null,
   "id": "f03d738e",
   "metadata": {},
   "outputs": [],
   "source": [
    "ytrain = ytrain.reshape(-1, 1)\n",
    "array_train = np.hstack((X_train, y_train))\n",
    "df_train = pd.DataFrame(array_train, columns=['Sepal.Length', 'Sepal.Width', 'Petal.Length', 'Petal.Width', 'Flower.Type'])\n",
    "df_train"
   ]
  },
  {
   "cell_type": "code",
   "execution_count": null,
   "id": "74e3d812",
   "metadata": {},
   "outputs": [],
   "source": [
    "y_test = y_test.reshape(-1, 1)\n",
    "array_test = np.hstack((X_test, y_test))\n",
    "df_test = pd.DataFrame(array_test, columns=['Sepal.Length', 'Sepal.Width', 'Petal.Length', 'Petal.Width', 'Flower.Type'])\n",
    "df_test"
   ]
  },
  {
   "cell_type": "code",
   "execution_count": 7,
   "id": "c43938f6",
   "metadata": {},
   "outputs": [
    {
     "name": "stdout",
     "output_type": "stream",
     "text": [
      "First datapoint is: 2\n",
      "Second datapoint is: 1\n",
      "First datapoint is: 2\n",
      "Second datapoint is: 0\n",
      "First datapoint is: 1\n",
      "Second datapoint is: 0\n"
     ]
    }
   ],
   "source": [
    "#Identify the Flower.Type for two new data points with k = 1, 2, 10 (2 results in best test accuracy that is not already covered)\n",
    "dps = np.array([[6.2, 3.0, 4.5, 1.8], [5.2, 3.0, 2.5, 0.9]])\n",
    "\n",
    "#Prediction with k = 1\n",
    "knn = KNeighborsClassifier(n_neighbors=1)\n",
    "knn.fit(X_train, y_train)\n",
    "y_pred = knn.predict(dps)\n",
    "print(f\"First datapoint is: {y_pred[0]}\")\n",
    "print(f\"Second datapoint is: {y_pred[1]}\")\n",
    "\n",
    "#Prediction with k = 2\n",
    "knn = KNeighborsClassifier(n_neighbors=2)\n",
    "knn.fit(X_train, y_train)\n",
    "y_pred = knn.predict(dps)\n",
    "print(f\"First datapoint is: {y_pred[0]}\")\n",
    "print(f\"Second datapoint is: {y_pred[1]}\")\n",
    "\n",
    "#Prediction with k = 10\n",
    "knn = KNeighborsClassifier(n_neighbors=10)\n",
    "knn.fit(X_train, y_train)\n",
    "y_pred = knn.predict(dps)\n",
    "print(f\"First datapoint is: {y_pred[0]}\")\n",
    "print(f\"Second datapoint is: {y_pred[1]}\")"
   ]
  },
  {
   "cell_type": "markdown",
   "id": "1f78f4a4",
   "metadata": {},
   "source": [
    "# Question 10"
   ]
  },
  {
   "cell_type": "code",
   "execution_count": 8,
   "id": "5a551868",
   "metadata": {},
   "outputs": [
    {
     "name": "stdout",
     "output_type": "stream",
     "text": [
      "Linear accuracy: 1.0\n",
      "Linear precision: 1.0\n",
      "Linear recall: 1.0\n",
      "Polynomial accuracy: 1.0\n",
      "Polynomial precision: 1.0\n",
      "Polynomial recall: 1.0\n"
     ]
    }
   ],
   "source": [
    "#linear SVM\n",
    "from sklearn import svm\n",
    "clf = svm.LinearSVC(dual = False)\n",
    "clf.fit(X_train, y_train)\n",
    "y_preds = clf.predict(X_test)\n",
    "\n",
    "print(\"Linear accuracy:\", metrics.accuracy_score(y_test, y_preds))\n",
    "print(\"Linear precision:\", metrics.precision_score(y_test, y_preds, average = \"weighted\"))\n",
    "print(\"Linear recall:\", metrics.recall_score(y_test, y_preds, average = \"weighted\"))\n",
    "\n",
    "#polynomial SVM\n",
    "clf = svm.SVC(kernel = \"poly\")\n",
    "clf.fit(X_train, y_train)\n",
    "y_preds = clf.predict(X_test)\n",
    "\n",
    "print(\"Polynomial accuracy:\", metrics.accuracy_score(y_test, y_preds))\n",
    "print(\"Polynomial precision:\", metrics.precision_score(y_test, y_preds, average = \"weighted\"))\n",
    "print(\"Polynomial recall:\", metrics.recall_score(y_test, y_preds, average = \"weighted\"))"
   ]
  },
  {
   "cell_type": "code",
   "execution_count": null,
   "id": "0f87b608",
   "metadata": {},
   "outputs": [],
   "source": []
  }
 ],
 "metadata": {
  "kernelspec": {
   "display_name": "Python 3 (ipykernel)",
   "language": "python",
   "name": "python3"
  },
  "language_info": {
   "codemirror_mode": {
    "name": "ipython",
    "version": 3
   },
   "file_extension": ".py",
   "mimetype": "text/x-python",
   "name": "python",
   "nbconvert_exporter": "python",
   "pygments_lexer": "ipython3",
   "version": "3.9.7"
  }
 },
 "nbformat": 4,
 "nbformat_minor": 5
}
