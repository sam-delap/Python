{
 "cells": [
  {
   "cell_type": "markdown",
   "metadata": {
    "id": "l9jpnN_QXHvl"
   },
   "source": [
    "___\n",
    "\n",
    "<a href='https://www.udemy.com/user/joseportilla/'><img src='../Pierian_Data_Logo.png'/></a>\n",
    "___\n",
    "<center><em>Content Copyright by Pierian Data</em></center>"
   ]
  },
  {
   "cell_type": "markdown",
   "metadata": {
    "id": "iklVR4ZwXHvt"
   },
   "source": [
    "# Milestone Project 1\n",
    "## Congratulations on making it to your first milestone!\n",
    "You've already learned a ton and are ready to work on a real project.\n",
    "\n",
    "Your assignment: Create a Tic Tac Toe game. You are free to use any IDE you like.\n",
    "\n",
    "Here are the requirements:\n",
    "\n",
    "* 2 players should be able to play the game (both sitting at the same computer)\n",
    "* The board should be printed out every time a player makes a move\n",
    "* You should be able to accept input of the player position and then place a symbol on the board\n",
    "\n",
    "Feel free to use Google to help you figure anything out (but don't just Google \"Tic Tac Toe in Python\" otherwise you won't learn anything!) Keep in mind that this project can take anywhere between several hours to several days.\n",
    "\n",
    "There are 4 Jupyter Notebooks related to this assignment:\n",
    "\n",
    "* This Assignment Notebook\n",
    "* A \"Walkthrough Steps Workbook\" Notebook\n",
    "* A \"Complete Walkthrough Solution\" Notebook\n",
    "* An \"Advanced Solution\" Notebook\n",
    "\n",
    "I encourage you to just try to start the project on your own without referencing any of the notebooks. If you get stuck, check out the next lecture which is a text lecture with helpful hints and steps. If you're still stuck after that, then check out the Walkthrough Steps Workbook, which breaks up the project in steps for you to solve. Still stuck? Then check out the Complete Walkthrough Solution video for more help on approaching the project!"
   ]
  },
  {
   "cell_type": "markdown",
   "metadata": {
    "id": "dpznlkimXHvv"
   },
   "source": [
    "There are parts of this that will be a struggle...and that is good! I have complete faith that if you have made it this far through the course you have all the tools and knowledge to tackle this project. Remember, it's totally open book, so take your time, do a little research, and remember:\n",
    "\n",
    "## HAVE FUN!"
   ]
  },
  {
   "cell_type": "code",
   "execution_count": 32,
   "metadata": {
    "id": "S3qJfxt9XHvw"
   },
   "outputs": [],
   "source": [
    "def print_tutorial():\n",
    "    print('Welcome to Tic Tac Toe!')\n",
    "    print('The rules of the game are simple:\\nPlayers will take turns selecting tiles on the game board.')\n",
    "    print('The goal is to get 3 tiles in a row, like this:')\n",
    "    print('|X|O| |')\n",
    "    print('|X| |O|')\n",
    "    print('|X|O| |')\n",
    "    print('\\nYou will need to select your tiles using the numbers 1-9, in this arrangement:')\n",
    "    print('|1|2|3|')\n",
    "    print('|4|5|6|')\n",
    "    print('|7|8|9|')\n",
    "    print('\\n')\n",
    "    \n",
    "    return"
   ]
  },
  {
   "cell_type": "code",
   "execution_count": 24,
   "metadata": {
    "id": "2w-xVDczXHvx"
   },
   "outputs": [],
   "source": [
    "def print_current_board_state(player1_selections, player2_selections):\n",
    "    print('|', end = '')\n",
    "    for i in range(1, 10):\n",
    "        if i in player1_selections:\n",
    "            print('X|', end = '')\n",
    "        elif i in player2_selections:\n",
    "            print('O|', end = '')\n",
    "        else:\n",
    "            print(' |', end = '')\n",
    "        \n",
    "        if i % 3 == 0 and i < 9:\n",
    "            print('\\n|', end  = '')\n",
    "    return    "
   ]
  },
  {
   "cell_type": "code",
   "execution_count": 14,
   "metadata": {
    "id": "-rjWSwv8XHvy"
   },
   "outputs": [],
   "source": [
    "from IPython.display import clear_output\n",
    "def prompt_user(player_num, player1_selections, player2_selections):\n",
    "    iserror = True\n",
    "    \n",
    "    print_current_board_state(player1_selections, player2_selections)\n",
    "    result = input(f'Player {player_num}, please select a space: ')\n",
    "    \n",
    "    while iserror:\n",
    "        if result.isdigit():\n",
    "            result = int(result)\n",
    "            if result < 1 or result > 9:\n",
    "                print('This number is not in the range 1-9. Select a space 1-9')\n",
    "                print_current_board_state(player1_selections, player2_selections)\n",
    "                result = input(f'\\nPlayer {player_num}, please select a space: ')\n",
    "            elif result in player1_selections or result in player2_selections:\n",
    "                clear_output()\n",
    "                print('This space has already been chosen. Select a space that has not been chosen.')\n",
    "                print_current_board_state(player1_selections, player2_selections)\n",
    "                result = input(f'\\nPlayer {player_num}, please select a space: ')\n",
    "            else:\n",
    "                iserror = False\n",
    "        else:\n",
    "            clear_output()\n",
    "            print('Sorry, I don\\'t understand. Select a space 1-9')\n",
    "            print_current_board_state(player1_selections, player2_selections)\n",
    "            result = input(f'\\nPlayer {player_num}, please select a space: ')\n",
    "    \n",
    "    return int(result)"
   ]
  },
  {
   "cell_type": "code",
   "execution_count": 15,
   "metadata": {
    "id": "fVWt9iP9XHv3"
   },
   "outputs": [],
   "source": [
    "def player_hasnt_won(player1_selections, player2_selections):\n",
    "    winning_combinations = [(1, 4, 7), (2, 5, 8), (3, 6, 9), (1, 2, 3), (4, 5, 6), (7, 8, 9), (1, 5, 9), (3, 5, 7)]\n",
    "    \n",
    "    player1_selections = set(tuple(player1_selections))\n",
    "    player2_selections = set(tuple(player2_selections))\n",
    "    \n",
    "    for i in range(len(winning_combinations)):\n",
    "        current_set = set(winning_combinations[i])\n",
    "        if current_set <= player1_selections or current_set <= player2_selections:\n",
    "            return False\n",
    "    \n",
    "    return True"
   ]
  },
  {
   "cell_type": "code",
   "execution_count": 45,
   "metadata": {
    "id": "gt_rPMynXHvz",
    "outputId": "5be3ea28-75ea-4d67-c8bb-0088dd7b1ca3"
   },
   "outputs": [],
   "source": [
    "from IPython.display import clear_output\n",
    "def play_game():\n",
    "    keep_playing = True\n",
    "    player1_selections = []\n",
    "    player2_selections = []\n",
    "    player1_win_count = 0\n",
    "    player2_win_count = 0\n",
    "\n",
    "    while keep_playing:\n",
    "        num_selections = 0\n",
    "        player_num = 1\n",
    "        player1_selections.clear()\n",
    "        player2_selections.clear()\n",
    "        clear_output()\n",
    "        print_tutorial()\n",
    "        while player_hasnt_won(player1_selections, player2_selections) and num_selections < 9:\n",
    "            num = prompt_user(player_num, player1_selections, player2_selections)\n",
    "            if player_num == 1:\n",
    "                player1_selections.append(num)\n",
    "                player_num = 2\n",
    "            else:\n",
    "                player2_selections.append(num)\n",
    "                player_num = 1\n",
    "            \n",
    "            clear_output()\n",
    "            num_selections += 1\n",
    "        \n",
    "        print_current_board_state(player1_selections, player2_selections)\n",
    "        if num_selections == 9:\n",
    "            print('\\nIt\\'s a tie! GGs')\n",
    "        else:\n",
    "            player_num = (player_num * 2) % 3\n",
    "            print(f'\\nCongrats player {player_num}!')\n",
    "            if player_num == 1:\n",
    "                player1_win_count += 1\n",
    "            else:\n",
    "                player2_win_count += 1\n",
    "            \n",
    "        print(f'Player 1 win count: {player1_win_count}')\n",
    "        print(f'Player 2 win count: {player2_win_count}')\n",
    "        c = input('Would you like to play again (y/n)? ')\n",
    "        c = c.lower()\n",
    "        \n",
    "        while c != 'n' and c != 'y':\n",
    "            clear_output()\n",
    "            print('I\\'m sorry, I don\\'t understand')\n",
    "            print(f'Player 1 win count: {player1_win_count}')\n",
    "            print(f'Player 2 win count: {player2_win_count}')\n",
    "            c = input('Would you like to play again (y/n)? ')\n",
    "            c = c.lower()\n",
    "        if c == 'n':\n",
    "            keep_playing = False\n",
    "        \n",
    "    return\n",
    "        \n",
    "        \n",
    "        "
   ]
  },
  {
   "cell_type": "code",
   "execution_count": 46,
   "metadata": {
    "id": "qGt0BRaTXHv2",
    "outputId": "bf4a60ea-8dbd-4a60-94ee-105439495646"
   },
   "outputs": [
    {
     "name": "stdout",
     "output_type": "stream",
     "text": [
      "|O|X|O|\n",
      "|O|X|X|\n",
      "|X|O|X|\n",
      "It's a tie! GGs\n",
      "Player 1 win count: 1\n",
      "Player 2 win count: 0\n",
      "Would you like to play again (y/n)? n\n"
     ]
    }
   ],
   "source": [
    "play_game()"
   ]
  },
  {
   "cell_type": "code",
   "execution_count": null,
   "metadata": {},
   "outputs": [],
   "source": []
  }
 ],
 "metadata": {
  "colab": {
   "name": "01-Milestone Project 1 - Assignment.ipynb",
   "provenance": []
  },
  "kernelspec": {
   "display_name": "Python 3 (ipykernel)",
   "language": "python",
   "name": "python3"
  },
  "language_info": {
   "codemirror_mode": {
    "name": "ipython",
    "version": 3
   },
   "file_extension": ".py",
   "mimetype": "text/x-python",
   "name": "python",
   "nbconvert_exporter": "python",
   "pygments_lexer": "ipython3",
   "version": "3.9.7"
  }
 },
 "nbformat": 4,
 "nbformat_minor": 1
}
